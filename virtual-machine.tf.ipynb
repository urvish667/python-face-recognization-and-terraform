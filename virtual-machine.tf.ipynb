{
 "cells": [
  {
   "cell_type": "code",
   "execution_count": null,
   "metadata": {},
   "outputs": [],
   "source": [
    "provider \"aws\" {\n",
    "    profile = \"default\"\n",
    "    region = \"ap-south-1\"\n",
    "    access_key = \"\"\n",
    "    secret_key = \"\"\n",
    "}\n",
    "\n",
    "resource \"aws_instance\" \"akhilesh_os1\"{\n",
    "    ami = \"ami-number\"\n",
    "    instance_type = \"t2.micro\"\n",
    "}\n",
    "\n",
    "\n",
    "\n",
    "\n"
   ]
  },
  {
   "cell_type": "code",
   "execution_count": null,
   "metadata": {},
   "outputs": [],
   "source": []
  }
 ],
 "metadata": {
  "kernelspec": {
   "display_name": "Python 3 (ipykernel)",
   "language": "python",
   "name": "python3"
  },
  "language_info": {
   "codemirror_mode": {
    "name": "ipython",
    "version": 3
   },
   "file_extension": ".py",
   "mimetype": "text/x-python",
   "name": "python",
   "nbconvert_exporter": "python",
   "pygments_lexer": "ipython3",
   "version": "3.9.7"
  }
 },
 "nbformat": 4,
 "nbformat_minor": 4
}
